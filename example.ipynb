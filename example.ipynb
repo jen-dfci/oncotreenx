{
 "cells": [
  {
   "cell_type": "code",
   "execution_count": 9,
   "metadata": {},
   "outputs": [],
   "source": [
    "import oncotreenx\n",
    "import networkx as nx\n"
   ]
  },
  {
   "cell_type": "code",
   "execution_count": null,
   "metadata": {},
   "outputs": [],
   "source": [
    "\n",
    "%load_ext autoreload\n",
    "%autoreload 2"
   ]
  },
  {
   "cell_type": "code",
   "execution_count": 3,
   "metadata": {},
   "outputs": [],
   "source": [
    "# load oncotree\n",
    "OT = oncotreenx.build_oncotree()"
   ]
  },
  {
   "cell_type": "code",
   "execution_count": 11,
   "metadata": {},
   "outputs": [
    {
     "name": "stdout",
     "output_type": "stream",
     "text": [
      "Appendiceal Adenocarcinoma APAD\n",
      "Encapsulated Glioma ENCG\n",
      "Adrenal Gland ADRENAL_GLAND\n"
     ]
    }
   ],
   "source": [
    "# test translation\n",
    "for x in ['Appendiceal Adenocarcinoma', 'Encapsulated Glioma', 'Adrenal Gland']:\n",
    "    print(x, oncotreenx.name_to_code(OT, x))"
   ]
  },
  {
   "cell_type": "code",
   "execution_count": 10,
   "metadata": {},
   "outputs": [
    {
     "data": {
      "text/plain": [
       "{'BLCLC',\n",
       " 'CCLC',\n",
       " 'CMPT',\n",
       " 'GCLC',\n",
       " 'LCLC',\n",
       " 'LECLC',\n",
       " 'LUACC',\n",
       " 'LUAD',\n",
       " 'LUAS',\n",
       " 'LUMEC',\n",
       " 'LUPC',\n",
       " 'LUSC',\n",
       " 'NSCLCPD',\n",
       " 'NUTCL',\n",
       " 'RLCLC',\n",
       " 'SGTTL',\n",
       " 'SPCC'}"
      ]
     },
     "execution_count": 10,
     "metadata": {},
     "output_type": "execute_result"
    }
   ],
   "source": [
    "# all children\n",
    "nx.descendants(OT, 'NSCLC')"
   ]
  },
  {
   "cell_type": "code",
   "execution_count": null,
   "metadata": {},
   "outputs": [],
   "source": []
  }
 ],
 "metadata": {
  "kernelspec": {
   "display_name": "oncotreenx-RagSCvsI-py3.9",
   "language": "python",
   "name": "python3"
  },
  "language_info": {
   "codemirror_mode": {
    "name": "ipython",
    "version": 3
   },
   "file_extension": ".py",
   "mimetype": "text/x-python",
   "name": "python",
   "nbconvert_exporter": "python",
   "pygments_lexer": "ipython3",
   "version": "3.9.16"
  }
 },
 "nbformat": 4,
 "nbformat_minor": 2
}
